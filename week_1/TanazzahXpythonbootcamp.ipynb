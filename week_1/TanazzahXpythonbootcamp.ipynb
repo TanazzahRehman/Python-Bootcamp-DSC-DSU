{
 "cells": [
  {
   "cell_type": "markdown",
   "metadata": {},
   "source": [
    "# python bootcamp week1------- Tanazzah Rehman"
   ]
  },
  {
   "cell_type": "code",
   "execution_count": 8,
   "metadata": {},
   "outputs": [
    {
     "name": "stdout",
     "output_type": "stream",
     "text": [
      "My name is: Tanazzah\n",
      " T\n",
      "   a\n",
      "     n\n",
      "       a\n",
      "         z\n",
      "           z\n",
      "             a\n",
      "               h\n",
      "                 T\n",
      "               a\n",
      "             n\n",
      "           a\n",
      "         z\n",
      "       z\n",
      "     a\n",
      "   h\n"
     ]
    }
   ],
   "source": [
    "def diagonal(nam):\n",
    "    for y in range(len(nam)):\n",
    "        print(\"  \"* y, nam[y])\n",
    "def diagonal_2(nam):\n",
    "    for y in range(len(nam)):\n",
    "        print(\"  \"* (len(nam)-y), nam[y])\n",
    "name = input(\"My name is: \")\n",
    "list_1 = list(name)\n",
    "diagonal(list_1)\n",
    "diagonal_2(list_1)"
   ]
  },
  {
   "cell_type": "code",
   "execution_count": 9,
   "metadata": {},
   "outputs": [
    {
     "name": "stdout",
     "output_type": "stream",
     "text": [
      "Enter roll number: 1\n",
      "Enter your name: Asma\n",
      "Enter your age: 19\n",
      "Enter your marks out of hundred: 78\n",
      "Enter roll number: 2\n",
      "Enter your name: Bilal\n",
      "Enter your age: 18\n",
      "Enter your marks out of hundred: 89\n",
      "Enter roll number: 3\n",
      "Enter your name: Laila\n",
      "Enter your age: 18\n",
      "Enter your marks out of hundred: 56\n",
      "Enter roll number: 4\n",
      "Enter your name: Aly\n",
      "Enter your age: 20\n",
      "Enter your marks out of hundred: 200\n",
      "Error...Enter your marks again: 93\n",
      "Enter roll number: 5\n",
      "Enter your name: Hamza\n",
      "Enter your age: 18\n",
      "Enter your marks out of hundred: 69\n",
      " **rollno** | **name** | **age** | **marks**(out of 100)\n",
      "   1           Asma          19          78\n",
      "   2          Bilal          18          89\n",
      "   3          Laila          18          56\n",
      "   4            Aly          20          93\n",
      "   5          Hamza          18          69\n",
      "\n",
      "\n",
      "highest marks in class is of: \n",
      "   4            Aly          20          93\n",
      "\n",
      "\n",
      "Lowest marks in class is of: \n",
      "   3          Laila          18          56\n",
      "\n",
      "\n",
      "Class average is: 77.0\n"
     ]
    }
   ],
   "source": [
    "record = [{\"rollno\": 0, \"name\": \"\", \"age\": 0, \"marks\": 0}, {\"rollno\": 0, \"name\": \"\", \"age\": 0, \"marks\": 0},\n",
    "          {\"rollno\": 0, \"name\": \"\", \"age\": 0, \"marks\": 0}, {\"rollno\": 0, \"name\": \"\", \"age\": 0, \"marks\": 0},\n",
    "          {\"rollno\": 0, \"name\": \"\", \"age\": 0, \"marks\": 0}]\n",
    "max = 0\n",
    "min = 100\n",
    "sum = 0\n",
    "for child in range(5):\n",
    "    rollnumber = int(input(\"Enter roll number: \"))\n",
    "    record[child][\"rollno\"] = rollnumber\n",
    "    nam = input(\"Enter your name: \")\n",
    "    record[child][\"name\"] = nam\n",
    "    agenumber = int(input(\"Enter your age: \"))\n",
    "    record[child][\"age\"] = agenumber\n",
    "    mark = int(input(\"Enter your marks out of hundred: \"))\n",
    "    while (mark < 0 or mark > 100):\n",
    "        mark = int(input(\"Error...Enter your marks again: \"))\n",
    "    record[child][\"marks\"] = mark\n",
    "    sum = sum + mark\n",
    "    if mark > max:\n",
    "        max = mark\n",
    "        access = child\n",
    "    if mark < min:\n",
    "        min = mark\n",
    "        acess = child\n",
    "avg = sum / 5\n",
    "print(\" **rollno** | **name** | **age** | **marks**(out of 100)\")\n",
    "for students in range(5):\n",
    "    print(\"{:>4}{:>15}{:>12}{:>12}\".format(record[students][\"rollno\"], record[students][\"name\"], record[students][\"age\"], record[students][\"marks\"]))\n",
    "print(\"\\n\")\n",
    "print(\"highest marks in class is of: \")\n",
    "print(\"{:>4}{:>15}{:>12}{:>12}\".format(record[access][\"rollno\"], record[access][\"name\"], record[access][\"age\"], record[access][\"marks\"]))\n",
    "print(\"\\n\")\n",
    "print(\"Lowest marks in class is of: \")\n",
    "print(\"{:>4}{:>15}{:>12}{:>12}\".format(record[acess][\"rollno\"], record[acess][\"name\"], record[acess][\"age\"], record[acess][\"marks\"]))\n",
    "print(\"\\n\")\n",
    "print(\"Class average is:\", avg)"
   ]
  },
  {
   "cell_type": "code",
   "execution_count": 4,
   "metadata": {},
   "outputs": [
    {
     "name": "stdout",
     "output_type": "stream",
     "text": [
      "Enter song:  Tennu takeya hosh hi bhul gayi. Garm garm chaa hath te dul gayi. Hath te dul gayi chaa sajna. Aisi teri nigaah sajna. Jaandi jaandi dasdi jaa tu. Dil de vich ki tere. Dil de vich ki tere. Main suneya uchiyan deewara rakhiyan. Ni tu dil de chaar chufere. Naale saambh ke rakhde ae. Koi dil ch na laa le dere. Main suneya pehlaan vi dil tuteya. Dil tuteya tera ik waari. Taanhi dil di deewaraan te. Tu ik na banaai baari. Mera bhi dil udna chaahe. Par main darni aa. Main udaa te. Main hawawa naale ladni aa. Mera bhi dil udna chaahe. Par main darni aa. Main udaa te. Main hawawa naale ladni aa. Khwaab apne apni akhiyaan vich sambhale main. Aise layi te dil te apne laale taal main. Main uchiyan uchiyan deewara rakhiyan. Iss dil de chaar chufere. Naale saambh ke rakhni aa. Koi dil te na laa le dere\n",
      " Tennu takeya hosh hi bhul gayi\n",
      " Garm garm chaa hath te dul gayi\n",
      " Hath te dul gayi chaa sajna\n",
      " Aisi teri nigaah sajna\n",
      " Jaandi jaandi dasdi jaa tu\n",
      " Dil de vich ki tere\n",
      " Dil de vich ki tere\n",
      " Main suneya uchiyan deewara rakhiyan\n",
      " Ni tu dil de chaar chufere\n",
      " Naale saambh ke rakhde ae\n",
      " Koi dil ch na laa le dere\n",
      " Main suneya pehlaan vi dil tuteya\n",
      " Dil tuteya tera ik waari\n",
      " Taanhi dil di deewaraan te\n",
      " Tu ik na banaai baari\n",
      " Mera bhi dil udna chaahe\n",
      " Par main darni aa\n",
      " Main udaa te\n",
      " Main hawawa naale ladni aa\n",
      " Mera bhi dil udna chaahe\n",
      " Par main darni aa\n",
      " Main udaa te\n",
      " Main hawawa naale ladni aa\n",
      " Khwaab apne apni akhiyaan vich sambhale main\n",
      " Aise layi te dil te apne laale taal main\n",
      " Main uchiyan uchiyan deewara rakhiyan\n",
      " Iss dil de chaar chufere\n",
      " Naale saambh ke rakhni aa\n",
      " Koi dil te na laa le dere\n"
     ]
    }
   ],
   "source": [
    "import time\n",
    "song = input(\"Enter song: \")\n",
    "x = song.split(sep = \".\")\n",
    "for line in x:\n",
    "    print(line)\n",
    "    time.sleep(1)"
   ]
  },
  {
   "cell_type": "code",
   "execution_count": null,
   "metadata": {},
   "outputs": [],
   "source": []
  }
 ],
 "metadata": {
  "kernelspec": {
   "display_name": "Python 3",
   "language": "python",
   "name": "python3"
  },
  "language_info": {
   "codemirror_mode": {
    "name": "ipython",
    "version": 3
   },
   "file_extension": ".py",
   "mimetype": "text/x-python",
   "name": "python",
   "nbconvert_exporter": "python",
   "pygments_lexer": "ipython3",
   "version": "3.8.3"
  }
 },
 "nbformat": 4,
 "nbformat_minor": 4
}
